{
  "nbformat": 4,
  "nbformat_minor": 0,
  "metadata": {
    "colab": {
      "name": "Emoji Prediction From Tweets.ipynb",
      "provenance": [],
      "collapsed_sections": [],
      "machine_shape": "hm"
    },
    "kernelspec": {
      "name": "python3",
      "display_name": "Python 3"
    },
    "language_info": {
      "name": "python"
    },
    "accelerator": "TPU"
  },
  "cells": [
    {
      "cell_type": "code",
      "metadata": {
        "colab": {
          "base_uri": "https://localhost:8080/"
        },
        "id": "Hc2Bt3EDYdmO",
        "outputId": "362e5bd8-8039-450a-a326-de5a3c68b69e"
      },
      "source": [
        "#install transformers\n",
        "pip install transformers"
      ],
      "execution_count": null,
      "outputs": [
        {
          "output_type": "stream",
          "text": [
            "Collecting transformers\n",
            "\u001b[?25l  Downloading https://files.pythonhosted.org/packages/d8/b2/57495b5309f09fa501866e225c84532d1fd89536ea62406b2181933fb418/transformers-4.5.1-py3-none-any.whl (2.1MB)\n",
            "\u001b[K     |████████████████████████████████| 2.1MB 6.7MB/s \n",
            "\u001b[?25hCollecting sacremoses\n",
            "\u001b[?25l  Downloading https://files.pythonhosted.org/packages/75/ee/67241dc87f266093c533a2d4d3d69438e57d7a90abb216fa076e7d475d4a/sacremoses-0.0.45-py3-none-any.whl (895kB)\n",
            "\u001b[K     |████████████████████████████████| 901kB 22.1MB/s \n",
            "\u001b[?25hRequirement already satisfied: tqdm>=4.27 in /usr/local/lib/python3.7/dist-packages (from transformers) (4.41.1)\n",
            "Requirement already satisfied: packaging in /usr/local/lib/python3.7/dist-packages (from transformers) (20.9)\n",
            "Requirement already satisfied: numpy>=1.17 in /usr/local/lib/python3.7/dist-packages (from transformers) (1.19.5)\n",
            "Requirement already satisfied: regex!=2019.12.17 in /usr/local/lib/python3.7/dist-packages (from transformers) (2019.12.20)\n",
            "Requirement already satisfied: importlib-metadata; python_version < \"3.8\" in /usr/local/lib/python3.7/dist-packages (from transformers) (3.10.1)\n",
            "Requirement already satisfied: filelock in /usr/local/lib/python3.7/dist-packages (from transformers) (3.0.12)\n",
            "Requirement already satisfied: requests in /usr/local/lib/python3.7/dist-packages (from transformers) (2.23.0)\n",
            "Collecting tokenizers<0.11,>=0.10.1\n",
            "\u001b[?25l  Downloading https://files.pythonhosted.org/packages/ae/04/5b870f26a858552025a62f1649c20d29d2672c02ff3c3fb4c688ca46467a/tokenizers-0.10.2-cp37-cp37m-manylinux2010_x86_64.whl (3.3MB)\n",
            "\u001b[K     |████████████████████████████████| 3.3MB 35.9MB/s \n",
            "\u001b[?25hRequirement already satisfied: click in /usr/local/lib/python3.7/dist-packages (from sacremoses->transformers) (7.1.2)\n",
            "Requirement already satisfied: six in /usr/local/lib/python3.7/dist-packages (from sacremoses->transformers) (1.15.0)\n",
            "Requirement already satisfied: joblib in /usr/local/lib/python3.7/dist-packages (from sacremoses->transformers) (1.0.1)\n",
            "Requirement already satisfied: pyparsing>=2.0.2 in /usr/local/lib/python3.7/dist-packages (from packaging->transformers) (2.4.7)\n",
            "Requirement already satisfied: zipp>=0.5 in /usr/local/lib/python3.7/dist-packages (from importlib-metadata; python_version < \"3.8\"->transformers) (3.4.1)\n",
            "Requirement already satisfied: typing-extensions>=3.6.4; python_version < \"3.8\" in /usr/local/lib/python3.7/dist-packages (from importlib-metadata; python_version < \"3.8\"->transformers) (3.7.4.3)\n",
            "Requirement already satisfied: chardet<4,>=3.0.2 in /usr/local/lib/python3.7/dist-packages (from requests->transformers) (3.0.4)\n",
            "Requirement already satisfied: certifi>=2017.4.17 in /usr/local/lib/python3.7/dist-packages (from requests->transformers) (2020.12.5)\n",
            "Requirement already satisfied: idna<3,>=2.5 in /usr/local/lib/python3.7/dist-packages (from requests->transformers) (2.10)\n",
            "Requirement already satisfied: urllib3!=1.25.0,!=1.25.1,<1.26,>=1.21.1 in /usr/local/lib/python3.7/dist-packages (from requests->transformers) (1.24.3)\n",
            "Installing collected packages: sacremoses, tokenizers, transformers\n",
            "Successfully installed sacremoses-0.0.45 tokenizers-0.10.2 transformers-4.5.1\n"
          ],
          "name": "stdout"
        }
      ]
    },
    {
      "cell_type": "code",
      "metadata": {
        "id": "tvjdjunXXD04"
      },
      "source": [
        "#import some libraries\n",
        "import numpy as np\n",
        "import pandas as pd\n",
        "from sklearn.model_selection import train_test_split\n",
        "from sklearn.model_selection import cross_val_score\n",
        "import torch\n",
        "import transformers as ppb\n",
        "import warnings\n",
        "warnings.filterwarnings('ignore')"
      ],
      "execution_count": null,
      "outputs": []
    },
    {
      "cell_type": "code",
      "metadata": {
        "id": "t-NZWNN6fCCf"
      },
      "source": [
        "#loading the data\n",
        "df_train = pd.read_csv('/content/drive/MyDrive/emoji/train_h.csv')\n",
        "df_val = pd.read_csv('/content/drive/MyDrive/emoji/valid_h.csv')\n",
        "df_test = pd.read_csv('/content/drive/MyDrive/emoji/test_h.csv')"
      ],
      "execution_count": null,
      "outputs": []
    },
    {
      "cell_type": "code",
      "metadata": {
        "id": "190mkOkpNCGg",
        "colab": {
          "base_uri": "https://localhost:8080/"
        },
        "outputId": "82b80dae-5777-48a3-d27d-f8684f6bd9ee"
      },
      "source": [
        "df_test.head"
      ],
      "execution_count": null,
      "outputs": [
        {
          "output_type": "execute_result",
          "data": {
            "text/plain": [
              "<bound method NDFrame.head of                                                     text  label\n",
              "0                                      en Pelham Parkway      2\n",
              "1      The calm before...... | w/ sofarsounds @user |...     10\n",
              "2      Just witnessed the great solar eclipse @ Tampa...      6\n",
              "3      This little lady is 26 weeks pregnant today! E...      1\n",
              "4      Great road trip views! @ Shartlesville, Pennsy...     16\n",
              "...                                                  ...    ...\n",
              "49995  @user @user @user #la #westhollywood #dtboy #l...      5\n",
              "49996  Climbing subway stairs. That was nothing. #sta...     19\n",
              "49997  Pops with Ms Drina at The Swanees Anniversary ...      6\n",
              "49998  We love ️ Soren! July 26, 2017 was her first d...      0\n",
              "49999  Waiting in line for #TheRoom ! #PrepareForDisa...      2\n",
              "\n",
              "[50000 rows x 2 columns]>"
            ]
          },
          "metadata": {
            "tags": []
          },
          "execution_count": 98
        }
      ]
    },
    {
      "cell_type": "code",
      "metadata": {
        "id": "eFEUlWOrNunU",
        "colab": {
          "base_uri": "https://localhost:8080/"
        },
        "outputId": "682ccef7-ad86-4401-eb48-66c191234d82"
      },
      "source": [
        "df_test.columns"
      ],
      "execution_count": null,
      "outputs": [
        {
          "output_type": "execute_result",
          "data": {
            "text/plain": [
              "Index(['text', 'label'], dtype='object')"
            ]
          },
          "metadata": {
            "tags": []
          },
          "execution_count": 99
        }
      ]
    },
    {
      "cell_type": "code",
      "metadata": {
        "id": "aNK-0niYOyhm",
        "colab": {
          "base_uri": "https://localhost:8080/"
        },
        "outputId": "e1920e17-500d-4d4f-b6ee-326ff8141272"
      },
      "source": [
        "#data preprocessing (removing links and unnecessary letters like #,@)\n",
        "import re\n",
        "for i in range(len(df_train['text'])):\n",
        "  df_train['text'][i]=re.sub(r'http\\S+', '', df_train['text'][i]) \n",
        "  df_train['text'][i]=re.sub(\"[^a-zA-Z]\", \" \", df_train['text'][i])\n"
      ],
      "execution_count": null,
      "outputs": [
        {
          "output_type": "stream",
          "text": [
            "/usr/local/lib/python3.7/dist-packages/ipykernel_launcher.py:3: SettingWithCopyWarning: \n",
            "A value is trying to be set on a copy of a slice from a DataFrame\n",
            "\n",
            "See the caveats in the documentation: https://pandas.pydata.org/pandas-docs/stable/user_guide/indexing.html#returning-a-view-versus-a-copy\n",
            "  This is separate from the ipykernel package so we can avoid doing imports until\n",
            "/usr/local/lib/python3.7/dist-packages/ipykernel_launcher.py:4: SettingWithCopyWarning: \n",
            "A value is trying to be set on a copy of a slice from a DataFrame\n",
            "\n",
            "See the caveats in the documentation: https://pandas.pydata.org/pandas-docs/stable/user_guide/indexing.html#returning-a-view-versus-a-copy\n",
            "  after removing the cwd from sys.path.\n"
          ],
          "name": "stderr"
        }
      ]
    },
    {
      "cell_type": "code",
      "metadata": {
        "colab": {
          "base_uri": "https://localhost:8080/"
        },
        "id": "boeIdPaY5mgi",
        "outputId": "0c667481-5f3a-4457-b6fd-85db2380a393"
      },
      "source": [
        "#data preprocessing (removing links and unnecessary letters like #,@)\n",
        "import re\n",
        "for i in range(len(df_val['text'])):\n",
        "  df_val['text'][i]=re.sub(r'http\\S+', '', df_val['text'][i]) \n",
        "  df_val['text'][i]=re.sub(\"[^a-zA-Z]\", \" \", df_val['text'][i])"
      ],
      "execution_count": null,
      "outputs": [
        {
          "output_type": "stream",
          "text": [
            "/usr/local/lib/python3.7/dist-packages/ipykernel_launcher.py:3: SettingWithCopyWarning: \n",
            "A value is trying to be set on a copy of a slice from a DataFrame\n",
            "\n",
            "See the caveats in the documentation: https://pandas.pydata.org/pandas-docs/stable/user_guide/indexing.html#returning-a-view-versus-a-copy\n",
            "  This is separate from the ipykernel package so we can avoid doing imports until\n",
            "/usr/local/lib/python3.7/dist-packages/ipykernel_launcher.py:4: SettingWithCopyWarning: \n",
            "A value is trying to be set on a copy of a slice from a DataFrame\n",
            "\n",
            "See the caveats in the documentation: https://pandas.pydata.org/pandas-docs/stable/user_guide/indexing.html#returning-a-view-versus-a-copy\n",
            "  after removing the cwd from sys.path.\n"
          ],
          "name": "stderr"
        }
      ]
    },
    {
      "cell_type": "code",
      "metadata": {
        "colab": {
          "base_uri": "https://localhost:8080/",
          "height": 407
        },
        "id": "BaomKX_T52fR",
        "outputId": "f061811d-6144-4985-9e03-3e422b4470f6"
      },
      "source": [
        "df_val"
      ],
      "execution_count": null,
      "outputs": [
        {
          "output_type": "execute_result",
          "data": {
            "text/html": [
              "<div>\n",
              "<style scoped>\n",
              "    .dataframe tbody tr th:only-of-type {\n",
              "        vertical-align: middle;\n",
              "    }\n",
              "\n",
              "    .dataframe tbody tr th {\n",
              "        vertical-align: top;\n",
              "    }\n",
              "\n",
              "    .dataframe thead th {\n",
              "        text-align: right;\n",
              "    }\n",
              "</style>\n",
              "<table border=\"1\" class=\"dataframe\">\n",
              "  <thead>\n",
              "    <tr style=\"text-align: right;\">\n",
              "      <th></th>\n",
              "      <th>text</th>\n",
              "      <th>label</th>\n",
              "    </tr>\n",
              "  </thead>\n",
              "  <tbody>\n",
              "    <tr>\n",
              "      <th>0</th>\n",
              "      <td>A little throwback with my favourite person   ...</td>\n",
              "      <td>0</td>\n",
              "    </tr>\n",
              "    <tr>\n",
              "      <th>1</th>\n",
              "      <td>glam on  user yesterday for  kcon makeup using...</td>\n",
              "      <td>7</td>\n",
              "    </tr>\n",
              "    <tr>\n",
              "      <th>2</th>\n",
              "      <td>Democracy Plaza in the wake of a stunning outc...</td>\n",
              "      <td>11</td>\n",
              "    </tr>\n",
              "    <tr>\n",
              "      <th>3</th>\n",
              "      <td>Then  amp  Now  VILO   Walt Disney Magic Kingdom</td>\n",
              "      <td>0</td>\n",
              "    </tr>\n",
              "    <tr>\n",
              "      <th>4</th>\n",
              "      <td>Who never      A Galaxy Far Far Away</td>\n",
              "      <td>2</td>\n",
              "    </tr>\n",
              "    <tr>\n",
              "      <th>...</th>\n",
              "      <td>...</td>\n",
              "      <td>...</td>\n",
              "    </tr>\n",
              "    <tr>\n",
              "      <th>4995</th>\n",
              "      <td>don t know what I d do without you   Keene Sta...</td>\n",
              "      <td>0</td>\n",
              "    </tr>\n",
              "    <tr>\n",
              "      <th>4996</th>\n",
              "      <td>Senior night with my little Bailey    So proud...</td>\n",
              "      <td>3</td>\n",
              "    </tr>\n",
              "    <tr>\n",
              "      <th>4997</th>\n",
              "      <td>Real friends or labeled as family   BrotherMan...</td>\n",
              "      <td>6</td>\n",
              "    </tr>\n",
              "    <tr>\n",
              "      <th>4998</th>\n",
              "      <td>It makes me so happy meet people wearing hats ...</td>\n",
              "      <td>3</td>\n",
              "    </tr>\n",
              "    <tr>\n",
              "      <th>4999</th>\n",
              "      <td>It s been    hours with her and she still hasn...</td>\n",
              "      <td>2</td>\n",
              "    </tr>\n",
              "  </tbody>\n",
              "</table>\n",
              "<p>5000 rows × 2 columns</p>\n",
              "</div>"
            ],
            "text/plain": [
              "                                                   text  label\n",
              "0     A little throwback with my favourite person   ...      0\n",
              "1     glam on  user yesterday for  kcon makeup using...      7\n",
              "2     Democracy Plaza in the wake of a stunning outc...     11\n",
              "3      Then  amp  Now  VILO   Walt Disney Magic Kingdom      0\n",
              "4                  Who never      A Galaxy Far Far Away      2\n",
              "...                                                 ...    ...\n",
              "4995  don t know what I d do without you   Keene Sta...      0\n",
              "4996  Senior night with my little Bailey    So proud...      3\n",
              "4997  Real friends or labeled as family   BrotherMan...      6\n",
              "4998  It makes me so happy meet people wearing hats ...      3\n",
              "4999  It s been    hours with her and she still hasn...      2\n",
              "\n",
              "[5000 rows x 2 columns]"
            ]
          },
          "metadata": {
            "tags": []
          },
          "execution_count": 103
        }
      ]
    },
    {
      "cell_type": "code",
      "metadata": {
        "colab": {
          "base_uri": "https://localhost:8080/"
        },
        "id": "TADxMV5r5nkt",
        "outputId": "6012557c-5b62-4b13-d3fc-34184ac90396"
      },
      "source": [
        "#data preprocessing (removing links and unnecessary letters like #,@)\n",
        "import re\n",
        "for i in range(len(df_test['text'])):\n",
        "  df_test['text'][i]=re.sub(r'http\\S+', '', df_test['text'][i]) \n",
        "  df_test['text'][i]=re.sub(\"[^a-zA-Z]\", \" \", df_test['text'][i])"
      ],
      "execution_count": null,
      "outputs": [
        {
          "output_type": "stream",
          "text": [
            "/usr/local/lib/python3.7/dist-packages/ipykernel_launcher.py:3: SettingWithCopyWarning: \n",
            "A value is trying to be set on a copy of a slice from a DataFrame\n",
            "\n",
            "See the caveats in the documentation: https://pandas.pydata.org/pandas-docs/stable/user_guide/indexing.html#returning-a-view-versus-a-copy\n",
            "  This is separate from the ipykernel package so we can avoid doing imports until\n",
            "/usr/local/lib/python3.7/dist-packages/ipykernel_launcher.py:4: SettingWithCopyWarning: \n",
            "A value is trying to be set on a copy of a slice from a DataFrame\n",
            "\n",
            "See the caveats in the documentation: https://pandas.pydata.org/pandas-docs/stable/user_guide/indexing.html#returning-a-view-versus-a-copy\n",
            "  after removing the cwd from sys.path.\n"
          ],
          "name": "stderr"
        }
      ]
    },
    {
      "cell_type": "code",
      "metadata": {
        "colab": {
          "base_uri": "https://localhost:8080/"
        },
        "id": "gGEGNN_MYz5i",
        "outputId": "12e8d605-4070-46c7-bec3-bdecf4e33bb2"
      },
      "source": [
        "#install bert for tensorflow2\n",
        "pip install bert-for-tf2"
      ],
      "execution_count": null,
      "outputs": [
        {
          "output_type": "stream",
          "text": [
            "Collecting bert-for-tf2\n",
            "\u001b[?25l  Downloading https://files.pythonhosted.org/packages/a5/a1/acb891630749c56901e770a34d6bac8a509a367dd74a05daf7306952e910/bert-for-tf2-0.14.9.tar.gz (41kB)\n",
            "\r\u001b[K     |████████                        | 10kB 19.2MB/s eta 0:00:01\r\u001b[K     |████████████████                | 20kB 13.5MB/s eta 0:00:01\r\u001b[K     |███████████████████████▉        | 30kB 9.9MB/s eta 0:00:01\r\u001b[K     |███████████████████████████████▉| 40kB 9.0MB/s eta 0:00:01\r\u001b[K     |████████████████████████████████| 51kB 4.5MB/s \n",
            "\u001b[?25hCollecting py-params>=0.9.6\n",
            "  Downloading https://files.pythonhosted.org/packages/aa/e0/4f663d8abf83c8084b75b995bd2ab3a9512ebc5b97206fde38cef906ab07/py-params-0.10.2.tar.gz\n",
            "Collecting params-flow>=0.8.0\n",
            "  Downloading https://files.pythonhosted.org/packages/a9/95/ff49f5ebd501f142a6f0aaf42bcfd1c192dc54909d1d9eb84ab031d46056/params-flow-0.8.2.tar.gz\n",
            "Requirement already satisfied: numpy in /usr/local/lib/python3.7/dist-packages (from params-flow>=0.8.0->bert-for-tf2) (1.19.5)\n",
            "Requirement already satisfied: tqdm in /usr/local/lib/python3.7/dist-packages (from params-flow>=0.8.0->bert-for-tf2) (4.41.1)\n",
            "Building wheels for collected packages: bert-for-tf2, py-params, params-flow\n",
            "  Building wheel for bert-for-tf2 (setup.py) ... \u001b[?25l\u001b[?25hdone\n",
            "  Created wheel for bert-for-tf2: filename=bert_for_tf2-0.14.9-cp37-none-any.whl size=30535 sha256=26c6d67ddf3ab268d20e02bf62b51579e62d54944ff754a5bd24b0204fc29bc1\n",
            "  Stored in directory: /root/.cache/pip/wheels/a1/04/ee/347bd9f5b821b637c76411d280271a857aece00358896a230f\n",
            "  Building wheel for py-params (setup.py) ... \u001b[?25l\u001b[?25hdone\n",
            "  Created wheel for py-params: filename=py_params-0.10.2-cp37-none-any.whl size=7912 sha256=15dd62ca504366ae3ebe7646d1c33a0fb2c0c9bd3b77f8b8dd52591cf9d6420d\n",
            "  Stored in directory: /root/.cache/pip/wheels/d0/4a/70/ff12450229ff1955abf01f365051d4faae1c20aef53ab4cf09\n",
            "  Building wheel for params-flow (setup.py) ... \u001b[?25l\u001b[?25hdone\n",
            "  Created wheel for params-flow: filename=params_flow-0.8.2-cp37-none-any.whl size=19472 sha256=5452b7e929d3e0dd25636549b96989d71f7462baa1c7d71f298b467f84c81bab\n",
            "  Stored in directory: /root/.cache/pip/wheels/08/c8/7f/81c86b9ff2b86e2c477e3914175be03e679e596067dc630c06\n",
            "Successfully built bert-for-tf2 py-params params-flow\n",
            "Installing collected packages: py-params, params-flow, bert-for-tf2\n",
            "Successfully installed bert-for-tf2-0.14.9 params-flow-0.8.2 py-params-0.10.2\n"
          ],
          "name": "stdout"
        }
      ]
    },
    {
      "cell_type": "code",
      "metadata": {
        "id": "NZbqqpwjh6JJ"
      },
      "source": [
        "import os\n",
        "import math\n",
        "import datetime\n",
        "from tqdm import tqdm \n",
        "import pandas as pd\n",
        "import numpy as np\n",
        "import tensorflow as tf\n",
        "from tensorflow import keras \n",
        "\n",
        "import bert \n",
        "from bert import BertModelLayer\n",
        "from bert.loader import StockBertConfig, map_stock_config_to_params, load_stock_weights\n",
        "from bert.tokenization.bert_tokenization import FullTokenizer\n",
        "import seaborn as sns\n",
        "\n",
        "from pylab import rcParams\n",
        "import matplotlib.pyplot as plt\n",
        "from matplotlib.ticker import MaxNLocator\n",
        "from matplotlib import rc\n",
        "\n",
        "from sklearn.metrics import confusion_matrix, classification_report"
      ],
      "execution_count": null,
      "outputs": []
    },
    {
      "cell_type": "code",
      "metadata": {
        "id": "irDC7egGb9hd"
      },
      "source": [
        "#define the class for BERT\n",
        "class EmojiDetectionData:\n",
        "  DATA_COLUMN = \"text\"\n",
        "  LABEL_COLUMN = \"label\"\n",
        "\n",
        "  def __init__(self, train, test, tokenizer: FullTokenizer, classes, max_seq_len=192):\n",
        "    self.tokenizer = tokenizer\n",
        "    self.max_seq_len = 0\n",
        "    self.classes = classes\n",
        "    \n",
        "    train, test = map(lambda df: df.reindex(df[EmojiDetectionData.DATA_COLUMN].str.len().sort_values().index), [train, test])\n",
        "    \n",
        "    ((self.train_x, self.train_y), (self.test_x, self.test_y)) = map(self._prepare, [train, test])\n",
        "\n",
        "    print(\"max seq_len\", self.max_seq_len)\n",
        "    self.max_seq_len = min(self.max_seq_len, max_seq_len)\n",
        "    self.train_x, self.test_x = map(self._pad, [self.train_x, self.test_x])\n",
        "\n",
        "  def _prepare(self, df):\n",
        "    x, y = [], []\n",
        "    \n",
        "    for _, row in tqdm(df.iterrows()):\n",
        "      text, label = row[EmojiDetectionData.DATA_COLUMN], row[EmojiDetectionData.LABEL_COLUMN]\n",
        "      tokens = self.tokenizer.tokenize(text)\n",
        "      tokens = [\"[CLS]\"] + tokens + [\"[SEP]\"]\n",
        "      token_ids = self.tokenizer.convert_tokens_to_ids(tokens)\n",
        "      self.max_seq_len = max(self.max_seq_len, len(token_ids))\n",
        "      x.append(token_ids)\n",
        "      y.append(self.classes.index(label))\n",
        "\n",
        "    return np.array(x), np.array(y)\n",
        "\n",
        "  def _pad(self, ids):\n",
        "    x = []\n",
        "    for input_ids in ids:\n",
        "      input_ids = input_ids[:min(len(input_ids), self.max_seq_len - 2)]\n",
        "      input_ids = input_ids + [0] * (self.max_seq_len - len(input_ids))\n",
        "      x.append(np.array(input_ids))\n",
        "    return np.array(x)\n",
        "\n"
      ],
      "execution_count": null,
      "outputs": []
    },
    {
      "cell_type": "code",
      "metadata": {
        "id": "uBWUje-eiWYx"
      },
      "source": [
        "#creating BERT model\n",
        "def create_model(max_seq_len, bert_config_file, bert_ckpt_file):\n",
        "    with tf.io.gfile.GFile(bert_config_file, 'r') as reader:\n",
        "        bc = StockBertConfig.from_json_string(reader.read())\n",
        "    bert_params = map_stock_config_to_params(bc)\n",
        "    bert_params.adapter_size = None\n",
        "    bert = BertModelLayer.from_params(bert_params, name = 'bert')\n",
        "    \n",
        "    input_ids = keras.layers.Input(shape = (max_seq_len, ), dtype='int32', name='input_ids')\n",
        "    bert_output = bert(input_ids)\n",
        "    \n",
        "    print('bert_shape', bert_output.shape)\n",
        "    \n",
        "    cls_out = keras.layers.Lambda(lambda seq: seq[:,0,:]) (bert_output)\n",
        "    cls_out = keras.layers.Dropout(0.5)(cls_out)\n",
        "    logits = keras.layers.Dense(units=768, activation='tanh')(cls_out)\n",
        "    logits = keras.layers.Dropout(0.5)(logits)\n",
        "    logits = keras.layers.Dense(units=len(classes), activation='softmax')(cls_out)\n",
        "    \n",
        "    model = keras.Model(inputs = input_ids, outputs= logits)\n",
        "    model.build(input_shape=(None, max_seq_len))\n",
        "    \n",
        "    load_stock_weights(bert, bert_ckpt_file)\n",
        "    \n",
        "    return model"
      ],
      "execution_count": null,
      "outputs": []
    },
    {
      "cell_type": "code",
      "metadata": {
        "id": "RvvKA8-RQiq4"
      },
      "source": [
        "def plot_graphs(f, history, string):\n",
        "    plt.plot(history.history[string])\n",
        "    plt.plot(history.history['val_'+string])\n",
        "    plt.xlabel(\"Epochs\")\n",
        "    plt.ylabel(string)\n",
        "    plt.legend([string, 'val_'+string])\n",
        "    plt.show()"
      ],
      "execution_count": null,
      "outputs": []
    },
    {
      "cell_type": "code",
      "metadata": {
        "id": "AbtoIoA5iwCl"
      },
      "source": [
        "RANDOM_SEED = 42\n",
        "lr = 0.000010\n",
        "np.random.seed(RANDOM_SEED)\n",
        "tf.random.set_seed(RANDOM_SEED)\n",
        "\n",
        "train = df_train\n",
        "valid = df_val\n",
        "test = df_test\n",
        "\n",
        "train = train.append(valid).reset_index(drop=True)"
      ],
      "execution_count": null,
      "outputs": []
    },
    {
      "cell_type": "code",
      "metadata": {
        "colab": {
          "base_uri": "https://localhost:8080/",
          "height": 664
        },
        "id": "NdKA8PMxOF45",
        "outputId": "003ec415-a0a1-412c-b8b1-1952b424f4bf"
      },
      "source": [
        "#frequency of train data for each class\n",
        "chart = sns.countplot(train.label)\n",
        "plt.title(\"Number of examples per emoji\")\n",
        "chart.set_xticklabels(chart.get_xticklabels(), rotation = 30, horizontalalignment= 'right')"
      ],
      "execution_count": null,
      "outputs": [
        {
          "output_type": "execute_result",
          "data": {
            "text/plain": [
              "[Text(0, 0, '0'),\n",
              " Text(0, 0, '1'),\n",
              " Text(0, 0, '2'),\n",
              " Text(0, 0, '3'),\n",
              " Text(0, 0, '4'),\n",
              " Text(0, 0, '5'),\n",
              " Text(0, 0, '6'),\n",
              " Text(0, 0, '7'),\n",
              " Text(0, 0, '8'),\n",
              " Text(0, 0, '9'),\n",
              " Text(0, 0, '10'),\n",
              " Text(0, 0, '11'),\n",
              " Text(0, 0, '12'),\n",
              " Text(0, 0, '13'),\n",
              " Text(0, 0, '14'),\n",
              " Text(0, 0, '15'),\n",
              " Text(0, 0, '16'),\n",
              " Text(0, 0, '17'),\n",
              " Text(0, 0, '18'),\n",
              " Text(0, 0, '19')]"
            ]
          },
          "metadata": {
            "tags": []
          },
          "execution_count": 15
        },
        {
          "output_type": "display_data",
          "data": {
            "image/png": "[encoded data removed]",
            "text/plain": [
              "<Figure size 432x288 with 1 Axes>"
            ]
          },
          "metadata": {
            "tags": [],
            "needs_background": "light"
          }
        }
      ]
    },
    {
      "cell_type": "code",
      "metadata": {
        "colab": {
          "base_uri": "https://localhost:8080/",
          "height": 664
        },
        "id": "JbL9eZHm6ngp",
        "outputId": "dcf9f6e4-e943-4747-df92-3eadf3f64113"
      },
      "source": [
        "#frequency of test data for each class\n",
        "chart = sns.countplot(test.label)\n",
        "plt.title(\"Number of examples per emoji\")\n",
        "chart.set_xticklabels(chart.get_xticklabels(), rotation = 30, horizontalalignment= 'right')"
      ],
      "execution_count": null,
      "outputs": [
        {
          "output_type": "execute_result",
          "data": {
            "text/plain": [
              "[Text(0, 0, '0'),\n",
              " Text(0, 0, '1'),\n",
              " Text(0, 0, '2'),\n",
              " Text(0, 0, '3'),\n",
              " Text(0, 0, '4'),\n",
              " Text(0, 0, '5'),\n",
              " Text(0, 0, '6'),\n",
              " Text(0, 0, '7'),\n",
              " Text(0, 0, '8'),\n",
              " Text(0, 0, '9'),\n",
              " Text(0, 0, '10'),\n",
              " Text(0, 0, '11'),\n",
              " Text(0, 0, '12'),\n",
              " Text(0, 0, '13'),\n",
              " Text(0, 0, '14'),\n",
              " Text(0, 0, '15'),\n",
              " Text(0, 0, '16'),\n",
              " Text(0, 0, '17'),\n",
              " Text(0, 0, '18'),\n",
              " Text(0, 0, '19')]"
            ]
          },
          "metadata": {
            "tags": []
          },
          "execution_count": 16
        },
        {
          "output_type": "display_data",
          "data": {
            "image/png": "[encoded data removed]",
            "text/plain": [
              "<Figure size 432x288 with 1 Axes>"
            ]
          },
          "metadata": {
            "tags": [],
            "needs_background": "light"
          }
        }
      ]
    },
    {
      "cell_type": "code",
      "metadata": {
        "colab": {
          "base_uri": "https://localhost:8080/"
        },
        "id": "Xg9vC7i5OHIH",
        "outputId": "0c616f41-025d-480e-e0c2-f90556ae34e4"
      },
      "source": [
        "#loading the model\n",
        "bert_model_name = 'uncased_L-12_H-768_A-12'\n",
        "bert_ckpt_dir = os.path.join('/content/drive/MyDrive/BERT Models/', bert_model_name)\n",
        "bert_ckpt_file = os.path.join(bert_ckpt_dir, 'bert_model.ckpt')\n",
        "bert_config_file = os.path.join(bert_ckpt_dir, 'bert_config.json')\n",
        "tokenizer = FullTokenizer(vocab_file= os.path.join(bert_ckpt_dir, 'vocab.txt'))\n",
        "\n",
        "\n",
        "classes = train.label.unique().tolist()\n",
        "\n",
        "data = EmojiDetectionData(train, test, tokenizer, classes, max_seq_len=128)\n",
        "model = create_model(data.max_seq_len, bert_config_file, bert_ckpt_file)\n",
        "\n",
        "model.summary()"
      ],
      "execution_count": null,
      "outputs": [
        {
          "output_type": "stream",
          "text": [
            "50000it [00:17, 2903.94it/s]\n",
            "/usr/local/lib/python3.7/dist-packages/ipykernel_launcher.py:30: VisibleDeprecationWarning: Creating an ndarray from ragged nested sequences (which is a list-or-tuple of lists-or-tuples-or ndarrays with different lengths or shapes) is deprecated. If you meant to do this, you must specify 'dtype=object' when creating the ndarray\n",
            "50000it [00:17, 2843.38it/s]\n"
          ],
          "name": "stderr"
        },
        {
          "output_type": "stream",
          "text": [
            "max seq_len 41\n",
            "bert_shape (None, 41, 768)\n",
            "Done loading 196 BERT weights from: /content/drive/MyDrive/BERT Models/uncased_L-12_H-768_A-12/bert_model.ckpt into <bert.model.BertModelLayer object at 0x7eff61211ed0> (prefix:bert). Count of weights not found in the checkpoint was: [0]. Count of weights with mismatched shape: [0]\n",
            "Unused weights from checkpoint: \n",
            "\tbert/embeddings/token_type_embeddings\n",
            "\tbert/pooler/dense/bias\n",
            "\tbert/pooler/dense/kernel\n",
            "\tcls/predictions/output_bias\n",
            "\tcls/predictions/transform/LayerNorm/beta\n",
            "\tcls/predictions/transform/LayerNorm/gamma\n",
            "\tcls/predictions/transform/dense/bias\n",
            "\tcls/predictions/transform/dense/kernel\n",
            "\tcls/seq_relationship/output_bias\n",
            "\tcls/seq_relationship/output_weights\n",
            "Model: \"model\"\n",
            "_________________________________________________________________\n",
            "Layer (type)                 Output Shape              Param #   \n",
            "=================================================================\n",
            "input_ids (InputLayer)       [(None, 41)]              0         \n",
            "_________________________________________________________________\n",
            "bert (BertModelLayer)        (None, 41, 768)           108890112 \n",
            "_________________________________________________________________\n",
            "lambda (Lambda)              (None, 768)               0         \n",
            "_________________________________________________________________\n",
            "dropout (Dropout)            (None, 768)               0         \n",
            "_________________________________________________________________\n",
            "dense_1 (Dense)              (None, 20)                15380     \n",
            "=================================================================\n",
            "Total params: 108,905,492\n",
            "Trainable params: 108,905,492\n",
            "Non-trainable params: 0\n",
            "_________________________________________________________________\n"
          ],
          "name": "stdout"
        }
      ]
    },
    {
      "cell_type": "code",
      "metadata": {
        "id": "ldVCjwf5OQJd"
      },
      "source": [
        "model.compile(\n",
        "    optimizer = keras.optimizers.Adam(lr),\n",
        "    loss = keras.losses.SparseCategoricalCrossentropy(from_logits=True),\n",
        "    metrics = [keras.metrics.SparseCategoricalAccuracy(name='acc')]\n",
        ")\n"
      ],
      "execution_count": null,
      "outputs": []
    },
    {
      "cell_type": "code",
      "metadata": {
        "colab": {
          "base_uri": "https://localhost:8080/"
        },
        "id": "2lB-p0HMOXuP",
        "outputId": "f3547644-523e-4789-cd4f-b1d19649587d"
      },
      "source": [
        "#tuning hyperparameters with BERT-base by batch size\n",
        "history = model.fit(\n",
        "    x = data.train_x,\n",
        "    y = data.train_y,\n",
        "    validation_split = 0.1,\n",
        "    batch_size = 16,\n",
        "    shuffle = True,\n",
        "    epochs = 5\n",
        ")"
      ],
      "execution_count": null,
      "outputs": [
        {
          "output_type": "stream",
          "text": [
            "Epoch 1/5\n",
            "2813/2813 [==============================] - 2587s 913ms/step - loss: 2.7749 - acc: 0.1995 - val_loss: 2.3030 - val_acc: 0.3316\n",
            "Epoch 2/5\n",
            "2813/2813 [==============================] - 2536s 902ms/step - loss: 2.3830 - acc: 0.3047 - val_loss: 2.2098 - val_acc: 0.3478\n",
            "Epoch 3/5\n",
            "2813/2813 [==============================] - 2562s 911ms/step - loss: 2.1920 - acc: 0.3561 - val_loss: 2.1937 - val_acc: 0.3524\n",
            "Epoch 4/5\n",
            "2813/2813 [==============================] - 2545s 905ms/step - loss: 2.0075 - acc: 0.4005 - val_loss: 2.2310 - val_acc: 0.3548\n",
            "Epoch 5/5\n",
            "2813/2813 [==============================] - 2538s 902ms/step - loss: 1.8498 - acc: 0.4416 - val_loss: 2.3101 - val_acc: 0.3386\n"
          ],
          "name": "stdout"
        }
      ]
    },
    {
      "cell_type": "code",
      "metadata": {
        "colab": {
          "base_uri": "https://localhost:8080/",
          "height": 544
        },
        "id": "4TBfzpBDOeaT",
        "outputId": "9bbcb587-5a27-483e-a7e0-352157b4b3b7"
      },
      "source": [
        "#plotting accuracy vs val_accuracy and loss vs val_loss\n",
        "f1 = plt.figure()\n",
        "plot_graphs(f1,history, \"acc\")\n",
        "f2 = plt.figure()\n",
        "plot_graphs(f2,history, \"loss\")"
      ],
      "execution_count": null,
      "outputs": [
        {
          "output_type": "display_data",
          "data": {
            "image/png": "[encoded data removed]",
            "text/plain": [
              "<Figure size 432x288 with 1 Axes>"
            ]
          },
          "metadata": {
            "tags": [],
            "needs_background": "light"
          }
        },
        {
          "output_type": "display_data",
          "data": {
            "image/png": "[encoded data removed]",
            "text/plain": [
              "<Figure size 432x288 with 1 Axes>"
            ]
          },
          "metadata": {
            "tags": [],
            "needs_background": "light"
          }
        }
      ]
    },
    {
      "cell_type": "code",
      "metadata": {
        "colab": {
          "base_uri": "https://localhost:8080/"
        },
        "id": "GdswC9oQOmV7",
        "outputId": "5c036489-677a-4a50-c9f1-cb7af04d4e2f"
      },
      "source": [
        "_, test_acc = model.evaluate(data.test_x, data.test_y)\n",
        "y_pred = model.predict(data.test_x).argmax(axis=-1)"
      ],
      "execution_count": null,
      "outputs": [
        {
          "output_type": "stream",
          "text": [
            "1563/1563 [==============================] - 723s 463ms/step - loss: 2.3187 - acc: 0.3415\n"
          ],
          "name": "stdout"
        }
      ]
    },
    {
      "cell_type": "code",
      "metadata": {
        "id": "bgYDCAhuRwLP",
        "colab": {
          "base_uri": "https://localhost:8080/"
        },
        "outputId": "3851c584-3e53-457b-eec1-34499bf55a00"
      },
      "source": [
        "#classification result\n",
        "print(classification_report(data.test_y, y_pred))"
      ],
      "execution_count": null,
      "outputs": [
        {
          "output_type": "stream",
          "text": [
            "              precision    recall  f1-score   support\n",
            "\n",
            "           0       0.27      0.47      0.35      1265\n",
            "           1       0.06      0.01      0.01      1010\n",
            "           2       0.39      0.61      0.47     10798\n",
            "           3       0.32      0.52      0.40      4534\n",
            "           4       0.54      0.49      0.52      1949\n",
            "           5       0.25      0.30      0.27      2749\n",
            "           6       0.27      0.28      0.27      4830\n",
            "           7       0.13      0.07      0.09      1175\n",
            "           8       0.54      0.45      0.49      3716\n",
            "           9       0.26      0.06      0.10      1549\n",
            "          10       0.11      0.08      0.10      1613\n",
            "          11       0.20      0.31      0.25      1432\n",
            "          12       0.12      0.06      0.08      1306\n",
            "          13       0.05      0.00      0.01      1153\n",
            "          14       0.40      0.07      0.12      2417\n",
            "          15       0.17      0.13      0.14      1996\n",
            "          16       0.59      0.03      0.05      1114\n",
            "          17       0.25      0.04      0.07      2605\n",
            "          18       0.26      0.16      0.20      1244\n",
            "          19       0.62      0.74      0.68      1545\n",
            "\n",
            "    accuracy                           0.34     50000\n",
            "   macro avg       0.29      0.24      0.23     50000\n",
            "weighted avg       0.32      0.34      0.31     50000\n",
            "\n"
          ],
          "name": "stdout"
        }
      ]
    },
    {
      "cell_type": "code",
      "metadata": {
        "id": "Mg5kCoZMj75G",
        "colab": {
          "base_uri": "https://localhost:8080/"
        },
        "outputId": "b8abcf38-912c-4911-875e-170a03803a3c"
      },
      "source": [
        "#tuning hyperparameters with BERT-base by batch size\n",
        "history = model.fit(\n",
        "    x = data.train_x,\n",
        "    y = data.train_y,\n",
        "    validation_split = 0.1,\n",
        "    batch_size = 32,\n",
        "    shuffle = True,\n",
        "    epochs = 5\n",
        ")"
      ],
      "execution_count": null,
      "outputs": [
        {
          "output_type": "stream",
          "text": [
            "Epoch 1/5\n",
            "1407/1407 [==============================] - 2532s 2s/step - loss: 2.8218 - acc: 0.1852 - val_loss: 2.3360 - val_acc: 0.3238\n",
            "Epoch 2/5\n",
            "1407/1407 [==============================] - 2389s 2s/step - loss: 2.4416 - acc: 0.2875 - val_loss: 2.2186 - val_acc: 0.3488\n",
            "Epoch 3/5\n",
            "1407/1407 [==============================] - 2411s 2s/step - loss: 2.2679 - acc: 0.3365 - val_loss: 2.2112 - val_acc: 0.3422\n",
            "Epoch 4/5\n",
            "1407/1407 [==============================] - 2397s 2s/step - loss: 2.1416 - acc: 0.3647 - val_loss: 2.2043 - val_acc: 0.3556\n",
            "Epoch 5/5\n",
            "1407/1407 [==============================] - 2408s 2s/step - loss: 2.0153 - acc: 0.3952 - val_loss: 2.2269 - val_acc: 0.3534\n"
          ],
          "name": "stdout"
        }
      ]
    },
    {
      "cell_type": "code",
      "metadata": {
        "colab": {
          "base_uri": "https://localhost:8080/",
          "height": 541
        },
        "id": "XXF6X3y4m0UJ",
        "outputId": "ae300ab1-b62b-4582-82a1-cbbdffa33a87"
      },
      "source": [
        "#plotting accuracy vs val_accuracy and loss vs val_loss\n",
        "f1 = plt.figure()\n",
        "plot_graphs(f1,history, \"acc\")\n",
        "f2 = plt.figure()\n",
        "plot_graphs(f2,history, \"loss\")"
      ],
      "execution_count": null,
      "outputs": [
        {
          "output_type": "display_data",
          "data": {
            "image/png": "[encoded data removed]",
            "text/plain": [
              "<Figure size 432x288 with 1 Axes>"
            ]
          },
          "metadata": {
            "tags": [],
            "needs_background": "light"
          }
        },
        {
          "output_type": "display_data",
          "data": {
            "image/png": "[encoded data removed]",
            "text/plain": [
              "<Figure size 432x288 with 1 Axes>"
            ]
          },
          "metadata": {
            "tags": [],
            "needs_background": "light"
          }
        }
      ]
    },
    {
      "cell_type": "code",
      "metadata": {
        "colab": {
          "base_uri": "https://localhost:8080/"
        },
        "id": "HSkY9_lIm65i",
        "outputId": "033e3e04-9d0c-4f33-afa8-cf7d8e801e2f"
      },
      "source": [
        "_, test_acc = model.evaluate(data.test_x, data.test_y)\n",
        "y_pred = model.predict(data.test_x).argmax(axis=-1)"
      ],
      "execution_count": null,
      "outputs": [
        {
          "output_type": "stream",
          "text": [
            "1563/1563 [==============================] - 916s 586ms/step - loss: 2.2433 - acc: 0.3485\n"
          ],
          "name": "stdout"
        }
      ]
    },
    {
      "cell_type": "code",
      "metadata": {
        "colab": {
          "base_uri": "https://localhost:8080/"
        },
        "id": "S9R3htFmqJsJ",
        "outputId": "2fdeb3ea-1fc6-4715-bafc-6fc5670868fa"
      },
      "source": [
        "#classification result\n",
        "print(classification_report(data.test_y, y_pred))"
      ],
      "execution_count": null,
      "outputs": [
        {
          "output_type": "stream",
          "text": [
            "              precision    recall  f1-score   support\n",
            "\n",
            "           0       0.29      0.47      0.36      1265\n",
            "           1       0.05      0.00      0.00      1010\n",
            "           2       0.37      0.66      0.47     10798\n",
            "           3       0.34      0.53      0.41      4534\n",
            "           4       0.57      0.47      0.52      1949\n",
            "           5       0.27      0.28      0.27      2749\n",
            "           6       0.28      0.25      0.27      4830\n",
            "           7       0.14      0.05      0.07      1175\n",
            "           8       0.58      0.41      0.48      3716\n",
            "           9       0.32      0.06      0.09      1549\n",
            "          10       0.12      0.11      0.11      1613\n",
            "          11       0.21      0.30      0.25      1432\n",
            "          12       0.13      0.05      0.08      1306\n",
            "          13       0.09      0.02      0.03      1153\n",
            "          14       0.41      0.14      0.20      2417\n",
            "          15       0.16      0.10      0.13      1996\n",
            "          16       0.51      0.02      0.03      1114\n",
            "          17       0.28      0.03      0.06      2605\n",
            "          18       0.27      0.11      0.15      1244\n",
            "          19       0.61      0.75      0.67      1545\n",
            "\n",
            "    accuracy                           0.35     50000\n",
            "   macro avg       0.30      0.24      0.23     50000\n",
            "weighted avg       0.33      0.35      0.31     50000\n",
            "\n"
          ],
          "name": "stdout"
        }
      ]
    },
    {
      "cell_type": "code",
      "metadata": {
        "colab": {
          "base_uri": "https://localhost:8080/"
        },
        "id": "1pi6ugSIunSo",
        "outputId": "989d6b14-76a6-4cff-8f83-58cf9030d9f8"
      },
      "source": [
        "#tuning hyperparameters with BERT-base by cahnging number of epochs\n",
        "history = model.fit(\n",
        "    x = data.train_x,\n",
        "    y = data.train_y,\n",
        "    validation_split = 0.1,\n",
        "    batch_size = 32,\n",
        "    shuffle = True,\n",
        "    epochs = 6\n",
        ")"
      ],
      "execution_count": null,
      "outputs": [
        {
          "output_type": "stream",
          "text": [
            "Epoch 1/6\n",
            "1407/1407 [==============================] - 2540s 2s/step - loss: 1.8971 - acc: 0.4249 - val_loss: 2.2696 - val_acc: 0.3478\n",
            "Epoch 2/6\n",
            "1407/1407 [==============================] - 2563s 2s/step - loss: 1.7601 - acc: 0.4643 - val_loss: 2.3444 - val_acc: 0.3466\n",
            "Epoch 3/6\n",
            "1407/1407 [==============================] - 2557s 2s/step - loss: 1.6092 - acc: 0.5046 - val_loss: 2.4489 - val_acc: 0.3330\n",
            "Epoch 4/6\n",
            "1407/1407 [==============================] - 2559s 2s/step - loss: 1.4653 - acc: 0.5460 - val_loss: 2.6723 - val_acc: 0.3152\n",
            "Epoch 5/6\n",
            "1407/1407 [==============================] - 2561s 2s/step - loss: 1.3142 - acc: 0.5892 - val_loss: 2.8114 - val_acc: 0.3140\n",
            "Epoch 6/6\n",
            "1407/1407 [==============================] - 2566s 2s/step - loss: 1.1706 - acc: 0.6305 - val_loss: 3.0108 - val_acc: 0.3006\n"
          ],
          "name": "stdout"
        }
      ]
    },
    {
      "cell_type": "code",
      "metadata": {
        "colab": {
          "base_uri": "https://localhost:8080/",
          "height": 541
        },
        "id": "UFtIU0E-QK8P",
        "outputId": "a29f2efc-dab1-40e5-af0a-e06568f5ebd6"
      },
      "source": [
        "#plotting accuracy vs val_accuracy and loss vs val_loss\n",
        "f1 = plt.figure()\n",
        "plot_graphs(f1,history, \"acc\")\n",
        "f2 = plt.figure()\n",
        "plot_graphs(f2,history, \"loss\")"
      ],
      "execution_count": null,
      "outputs": [
        {
          "output_type": "display_data",
          "data": {
            "image/png": "[encoded data removed]",
            "text/plain": [
              "<Figure size 432x288 with 1 Axes>"
            ]
          },
          "metadata": {
            "tags": [],
            "needs_background": "light"
          }
        },
        {
          "output_type": "display_data",
          "data": {
            "image/png": "[encoded data removed]",
            "text/plain": [
              "<Figure size 432x288 with 1 Axes>"
            ]
          },
          "metadata": {
            "tags": [],
            "needs_background": "light"
          }
        }
      ]
    },
    {
      "cell_type": "code",
      "metadata": {
        "colab": {
          "base_uri": "https://localhost:8080/"
        },
        "id": "_AqQ7Pb-QTer",
        "outputId": "3cb8ce15-15f4-43de-aaf1-622f35007c58"
      },
      "source": [
        "_, test_acc = model.evaluate(data.test_x, data.test_y)\n",
        "y_pred = model.predict(data.test_x).argmax(axis=-1)"
      ],
      "execution_count": null,
      "outputs": [
        {
          "output_type": "stream",
          "text": [
            "1563/1563 [==============================] - 672s 428ms/step - loss: 3.1594 - acc: 0.0466\n"
          ],
          "name": "stdout"
        }
      ]
    },
    {
      "cell_type": "code",
      "metadata": {
        "colab": {
          "base_uri": "https://localhost:8080/"
        },
        "id": "KP5lHS3wgkpZ",
        "outputId": "50f61d64-dd5e-41c4-d916-40157feb00e0"
      },
      "source": [
        "#classification result\n",
        "print(classification_report(data.test_y, y_pred))"
      ],
      "execution_count": null,
      "outputs": [
        {
          "output_type": "stream",
          "text": [
            "              precision    recall  f1-score   support\n",
            "\n",
            "           0       0.01      0.01      0.01      1265\n",
            "           1       0.01      0.00      0.00      1010\n",
            "           2       0.17      0.00      0.01     10798\n",
            "           3       0.08      0.01      0.02      4534\n",
            "           4       0.05      0.16      0.08      1949\n",
            "           5       0.05      0.26      0.08      2749\n",
            "           6       0.00      0.00      0.00      4830\n",
            "           7       0.00      0.00      0.00      1175\n",
            "           8       0.13      0.01      0.02      3716\n",
            "           9       0.00      0.00      0.00      1549\n",
            "          10       0.03      0.08      0.04      1613\n",
            "          11       0.02      0.01      0.01      1432\n",
            "          12       0.03      0.02      0.02      1306\n",
            "          13       0.03      0.00      0.00      1153\n",
            "          14       0.00      0.00      0.00      2417\n",
            "          15       0.03      0.03      0.03      1996\n",
            "          16       0.00      0.00      0.00      1114\n",
            "          17       0.05      0.34      0.09      2605\n",
            "          18       0.00      0.00      0.00      1244\n",
            "          19       0.00      0.00      0.00      1545\n",
            "\n",
            "    accuracy                           0.05     50000\n",
            "   macro avg       0.03      0.05      0.02     50000\n",
            "weighted avg       0.07      0.05      0.02     50000\n",
            "\n"
          ],
          "name": "stdout"
        },
        {
          "output_type": "stream",
          "text": [
            "/usr/local/lib/python3.7/dist-packages/sklearn/metrics/_classification.py:1272: UndefinedMetricWarning: Precision and F-score are ill-defined and being set to 0.0 in labels with no predicted samples. Use `zero_division` parameter to control this behavior.\n",
            "  _warn_prf(average, modifier, msg_start, len(result))\n"
          ],
          "name": "stderr"
        }
      ]
    },
    {
      "cell_type": "code",
      "metadata": {
        "colab": {
          "base_uri": "https://localhost:8080/"
        },
        "id": "cGkpvj6Bl3lY",
        "outputId": "5ea65eba-9b83-4a2d-b8e0-624a880d6118"
      },
      "source": [
        "#tuning hyperparameters with BERT-base by changing shuffle to false\n",
        "history = model.fit(\n",
        "    x = data.train_x,\n",
        "    y = data.train_y,\n",
        "    validation_split = 0.1,\n",
        "    batch_size = 32,\n",
        "    shuffle = False,\n",
        "    epochs = 5\n",
        ")"
      ],
      "execution_count": null,
      "outputs": [
        {
          "output_type": "stream",
          "text": [
            "Epoch 1/5\n",
            "1407/1407 [==============================] - 2033s 1s/step - loss: 3.0790 - acc: 0.1384 - val_loss: 2.6885 - val_acc: 0.2526\n",
            "Epoch 2/5\n",
            "1407/1407 [==============================] - 1905s 1s/step - loss: 2.9319 - acc: 0.1556 - val_loss: 2.6882 - val_acc: 0.2524\n",
            "Epoch 3/5\n",
            "1407/1407 [==============================] - 1904s 1s/step - loss: 2.8813 - acc: 0.1674 - val_loss: 2.6836 - val_acc: 0.2524\n",
            "Epoch 4/5\n",
            "1407/1407 [==============================] - 1898s 1s/step - loss: 2.8541 - acc: 0.1761 - val_loss: 2.6759 - val_acc: 0.2524\n",
            "Epoch 5/5\n",
            "1407/1407 [==============================] - 1905s 1s/step - loss: 2.8307 - acc: 0.1819 - val_loss: 2.6837 - val_acc: 0.2524\n"
          ],
          "name": "stdout"
        }
      ]
    },
    {
      "cell_type": "code",
      "metadata": {
        "colab": {
          "base_uri": "https://localhost:8080/",
          "height": 541
        },
        "id": "G_khEL3eQ_ln",
        "outputId": "ca1e81ff-2473-4094-e0a3-b74ce221f631"
      },
      "source": [
        "#plotting accuracy vs val_accuracy and loss vs val_loss\n",
        "f1 = plt.figure()\n",
        "plot_graphs(f1,history, \"acc\")\n",
        "f2 = plt.figure()\n",
        "plot_graphs(f2,history, \"loss\")"
      ],
      "execution_count": null,
      "outputs": [
        {
          "output_type": "display_data",
          "data": {
            "image/png": "[encoded data removed]",
            "text/plain": [
              "<Figure size 432x288 with 1 Axes>"
            ]
          },
          "metadata": {
            "tags": [],
            "needs_background": "light"
          }
        },
        {
          "output_type": "display_data",
          "data": {
            "image/png": "[encoded data removed]",
            "text/plain": [
              "<Figure size 432x288 with 1 Axes>"
            ]
          },
          "metadata": {
            "tags": [],
            "needs_background": "light"
          }
        }
      ]
    },
    {
      "cell_type": "code",
      "metadata": {
        "colab": {
          "base_uri": "https://localhost:8080/"
        },
        "id": "R3y0e80cRQQn",
        "outputId": "4dacfd86-8e9c-4c70-bb41-a776eca463a0"
      },
      "source": [
        "_, test_acc = model.evaluate(data.test_x, data.test_y)\n",
        "y_pred = model.predict(data.test_x).argmax(axis=-1)"
      ],
      "execution_count": null,
      "outputs": [
        {
          "output_type": "stream",
          "text": [
            "1563/1563 [==============================] - 711s 455ms/step - loss: 2.7771 - acc: 0.2160\n"
          ],
          "name": "stdout"
        }
      ]
    },
    {
      "cell_type": "code",
      "metadata": {
        "colab": {
          "base_uri": "https://localhost:8080/"
        },
        "id": "e2AKyr63ZSQ9",
        "outputId": "1c62f59e-52e8-4c5d-88b5-831b6c0a2001"
      },
      "source": [
        "#classification result\n",
        "print(classification_report(data.test_y, y_pred))"
      ],
      "execution_count": null,
      "outputs": [
        {
          "output_type": "stream",
          "text": [
            "              precision    recall  f1-score   support\n",
            "\n",
            "           0       0.00      0.00      0.00      1265\n",
            "           1       0.00      0.00      0.00      1010\n",
            "           2       0.22      1.00      0.36     10798\n",
            "           3       0.00      0.00      0.00      4534\n",
            "           4       0.00      0.00      0.00      1949\n",
            "           5       0.00      0.00      0.00      2749\n",
            "           6       0.00      0.00      0.00      4830\n",
            "           7       0.00      0.00      0.00      1175\n",
            "           8       0.00      0.00      0.00      3716\n",
            "           9       0.00      0.00      0.00      1549\n",
            "          10       0.00      0.00      0.00      1613\n",
            "          11       0.00      0.00      0.00      1432\n",
            "          12       0.00      0.00      0.00      1306\n",
            "          13       0.00      0.00      0.00      1153\n",
            "          14       0.00      0.00      0.00      2417\n",
            "          15       0.00      0.00      0.00      1996\n",
            "          16       0.00      0.00      0.00      1114\n",
            "          17       0.00      0.00      0.00      2605\n",
            "          18       0.00      0.00      0.00      1244\n",
            "          19       0.00      0.00      0.00      1545\n",
            "\n",
            "    accuracy                           0.22     50000\n",
            "   macro avg       0.01      0.05      0.02     50000\n",
            "weighted avg       0.05      0.22      0.08     50000\n",
            "\n"
          ],
          "name": "stdout"
        },
        {
          "output_type": "stream",
          "text": [
            "/usr/local/lib/python3.7/dist-packages/sklearn/metrics/_classification.py:1272: UndefinedMetricWarning: Precision and F-score are ill-defined and being set to 0.0 in labels with no predicted samples. Use `zero_division` parameter to control this behavior.\n",
            "  _warn_prf(average, modifier, msg_start, len(result))\n"
          ],
          "name": "stderr"
        }
      ]
    }
  ]
}